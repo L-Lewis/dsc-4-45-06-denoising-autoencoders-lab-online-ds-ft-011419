{
 "cells": [
  {
   "cell_type": "markdown",
   "metadata": {},
   "source": [
    "# Denoising Autoencoders - Lab\n",
    "\n",
    "## Introduction\n",
    "\n",
    "In this lab, we will build a simple de-noising autoencoder using a shallow architecture. Following the approach in previously seen in the section, the simple architecture can be replaced by a deep network having multiple layers to learn the intermediate representation. The basic architecture remains the same here , however, the application area changes from data compression to data de-noising. Let's get on with it . \n",
    "\n",
    "## Objectives\n",
    "\n",
    "You will be able to:\n",
    "\n",
    "- Build a simple denoising Autoencoder architecture in Keras\n",
    "- Add random Gaussian Noise to a given images dataset\n",
    "- Predict a clean image from a (previously unseen) noisy image\n"
   ]
  },
  {
   "cell_type": "markdown",
   "metadata": {},
   "source": [
    "## Load necessary libraries\n",
    "\n",
    "We need to first load necessary libraries including numpy and keras for building our DAE model."
   ]
  },
  {
   "cell_type": "code",
   "execution_count": 1,
   "metadata": {},
   "outputs": [
    {
     "name": "stderr",
     "output_type": "stream",
     "text": [
      "Using TensorFlow backend.\n"
     ]
    }
   ],
   "source": [
    "# Import necessary libraries\n",
    "import numpy as np\n",
    "import matplotlib.pyplot as plt\n",
    "from keras.models import Model\n",
    "from keras.layers import Input, Dense"
   ]
  },
  {
   "cell_type": "markdown",
   "metadata": {},
   "source": [
    "## Load data\n",
    "\n",
    "This experiment can be performed with any small image database, to help us keep our focus on the architecture and the approach. You can try with MNIST, fashion-MNIST, CIFAR10 and CIFAR100 datasets. CIFAR datasets are colored images and carry RGB channels which can possibly increase the training times many folds. You are encouraged to try these and other larger datasets with this code and give it a few hours (maybe overnight) training time to run a bigger experiment. \n",
    "\n",
    "Let's perform following tasks first, similar to our previous labs\n",
    "\n",
    "- Load MNIST/fashion-MNIST dataset in keras (both datasets contain images with similar dimensions). Create train and test datasets\n",
    "- Neural networks only accepts row vectors as an input - Reshape train and test datasets from 2D array to 1D. \n",
    "- Scale the data in range [0,1] to allow us to use sigmoid activation function in output neurons.\n",
    "- Print the shape of resulting datasets"
   ]
  },
  {
   "cell_type": "code",
   "execution_count": 7,
   "metadata": {},
   "outputs": [],
   "source": [
    "from keras.datasets import fashion_mnist\n",
    "((X_train, y_train), (X_test, y_test)) = fashion_mnist.load_data()"
   ]
  },
  {
   "cell_type": "code",
   "execution_count": 8,
   "metadata": {},
   "outputs": [
    {
     "data": {
      "text/plain": [
       "(60000, 28, 28)"
      ]
     },
     "execution_count": 8,
     "metadata": {},
     "output_type": "execute_result"
    }
   ],
   "source": [
    "X_train.shape"
   ]
  },
  {
   "cell_type": "code",
   "execution_count": 9,
   "metadata": {},
   "outputs": [],
   "source": [
    "X_train = X_train.reshape(X_train.shape[0], X_train.shape[1] * X_train.shape[2])\n",
    "X_test = X_test.reshape(X_test.shape[0], X_test.shape[1] * X_test.shape[2])"
   ]
  },
  {
   "cell_type": "code",
   "execution_count": 10,
   "metadata": {},
   "outputs": [],
   "source": [
    "X_train = X_train.astype('float32')/255\n",
    "X_test = X_test.astype('float32')/255"
   ]
  },
  {
   "cell_type": "code",
   "execution_count": 11,
   "metadata": {},
   "outputs": [
    {
     "name": "stdout",
     "output_type": "stream",
     "text": [
      "Training: (60000, 784)\n",
      "Test: (10000, 784)\n"
     ]
    }
   ],
   "source": [
    "print(\"Training:\", X_train.shape)\n",
    "print(\"Test:\", X_test.shape)"
   ]
  },
  {
   "cell_type": "markdown",
   "metadata": {},
   "source": [
    "## Create a \"Noisy\" Dataset\n",
    "\n",
    "Here we will introduce random Gaussian noise to the test and train data. The noiy dataset can be generated using following general formula, which will a add noise with mean 0 and standard deviation=1 :\n",
    "\n",
    "$$NoisyDataset~=~OriginalDataset~+~NoiseFactor~*~np.random.normal(loc=0.0, scale=1.0, size=OriginalDataset.shape)$$\n",
    "\n",
    "- Use a noise factor of 0.5\n",
    "- Create a set of noise test and train datasets from original datasets using formula given above\n",
    "- Use `np.clip()` to restrict the values between 0 and 1. \n",
    "\n",
    "\n",
    "> __numpy.clip(a, a_min, a_max, out=None)__ clips (limit) the values in an array.\n",
    "\n",
    "*Given an interval, values outside the interval are clipped to the interval edges. For example, if an interval of [0, 1] is specified, values smaller than 0 become 0, and values larger than 1 become 1.*\n"
   ]
  },
  {
   "cell_type": "code",
   "execution_count": 12,
   "metadata": {},
   "outputs": [],
   "source": [
    "noise_factor = 0.5\n",
    "\n",
    "X_train_noisy = X_train + noise_factor * np.random.normal(loc=0., scale=1., size=X_train.shape)\n",
    "X_train_noisy = np.clip(X_train_noisy, 0., 1.)\n",
    "\n",
    "X_test_noisy = X_test + noise_factor * np.random.normal(loc=0., scale=1., size=X_test.shape)\n",
    "X_test_noisy = np.clip(X_test_noisy, 0., 1.)"
   ]
  },
  {
   "cell_type": "markdown",
   "metadata": {},
   "source": [
    "## Build the DAE\n",
    "\n",
    "- Build the encoder model for creating a hidden representation of length 32 from input vector of length 784. \n",
    "- Use RELU activation for the encoder model\n",
    "- Build the decoder model with signmoid activation \n",
    "- Show model summary"
   ]
  },
  {
   "cell_type": "code",
   "execution_count": 19,
   "metadata": {},
   "outputs": [
    {
     "name": "stdout",
     "output_type": "stream",
     "text": [
      "_________________________________________________________________\n",
      "Layer (type)                 Output Shape              Param #   \n",
      "=================================================================\n",
      "inputs (InputLayer)          (None, 784)               0         \n",
      "_________________________________________________________________\n",
      "dense_4 (Dense)              (None, 32)                25120     \n",
      "_________________________________________________________________\n",
      "dense_5 (Dense)              (None, 784)               25872     \n",
      "=================================================================\n",
      "Total params: 50,992\n",
      "Trainable params: 50,992\n",
      "Non-trainable params: 0\n",
      "_________________________________________________________________\n"
     ]
    }
   ],
   "source": [
    "# From solutions\n",
    "# Input dimensions\n",
    "x = Input(name='inputs', shape=(784,), dtype='float32')\n",
    "    \n",
    "# Encoder model \n",
    "encoder = Dense(32, activation='relu')(x)\n",
    "    \n",
    "# Decoder model \n",
    "decoder = Dense(784, activation='sigmoid')(encoder)\n",
    "    \n",
    "# Print network summary\n",
    "DAE = Model(inputs=x, outputs=decoder)\n",
    "DAE.summary()"
   ]
  },
  {
   "cell_type": "markdown",
   "metadata": {},
   "source": [
    "## Compile and Predict \n",
    "\n",
    "- Use batch size = 128 and 30 epochs for training (increase epochs for better results)\n",
    "- Use adam optimizer and binary cross entropy as the loss measure to compile DAE model\n",
    "- Fit DAE with noisy dataset as the input and original dataset as the output. We are trying to teach the network to learn how a clean version compares to the noisy version of data - for all images. \n",
    "- Set `shuffle=True` for shuffling batches of data. \n",
    "- Make predictions with the noise test dataset"
   ]
  },
  {
   "cell_type": "code",
   "execution_count": 20,
   "metadata": {},
   "outputs": [
    {
     "name": "stdout",
     "output_type": "stream",
     "text": [
      "Train on 60000 samples, validate on 10000 samples\n",
      "Epoch 1/30\n",
      "60000/60000 [==============================] - 4s 71us/step - loss: 0.3883 - val_loss: 0.3381\n",
      "Epoch 2/30\n",
      "60000/60000 [==============================] - 4s 65us/step - loss: 0.3283 - val_loss: 0.3258\n",
      "Epoch 3/30\n",
      "60000/60000 [==============================] - 4s 59us/step - loss: 0.3198 - val_loss: 0.3194\n",
      "Epoch 4/30\n",
      "60000/60000 [==============================] - 4s 66us/step - loss: 0.3148 - val_loss: 0.3156\n",
      "Epoch 5/30\n",
      "60000/60000 [==============================] - 4s 65us/step - loss: 0.3117 - val_loss: 0.3133\n",
      "Epoch 6/30\n",
      "60000/60000 [==============================] - 4s 62us/step - loss: 0.3094 - val_loss: 0.3113\n",
      "Epoch 7/30\n",
      "60000/60000 [==============================] - 4s 59us/step - loss: 0.3077 - val_loss: 0.3099\n",
      "Epoch 8/30\n",
      "60000/60000 [==============================] - 4s 64us/step - loss: 0.3065 - val_loss: 0.3086\n",
      "Epoch 9/30\n",
      "60000/60000 [==============================] - 4s 61us/step - loss: 0.3054 - val_loss: 0.3078\n",
      "Epoch 10/30\n",
      "60000/60000 [==============================] - 4s 62us/step - loss: 0.3047 - val_loss: 0.3072\n",
      "Epoch 11/30\n",
      "60000/60000 [==============================] - 4s 67us/step - loss: 0.3042 - val_loss: 0.3067\n",
      "Epoch 12/30\n",
      "60000/60000 [==============================] - 4s 66us/step - loss: 0.3038 - val_loss: 0.3063\n",
      "Epoch 13/30\n",
      "60000/60000 [==============================] - 4s 67us/step - loss: 0.3034 - val_loss: 0.3061\n",
      "Epoch 14/30\n",
      "60000/60000 [==============================] - 4s 60us/step - loss: 0.3032 - val_loss: 0.3058\n",
      "Epoch 15/30\n",
      "60000/60000 [==============================] - 4s 59us/step - loss: 0.3029 - val_loss: 0.3056\n",
      "Epoch 16/30\n",
      "60000/60000 [==============================] - 5s 77us/step - loss: 0.3027 - val_loss: 0.3056\n",
      "Epoch 17/30\n",
      "60000/60000 [==============================] - 5s 79us/step - loss: 0.3026 - val_loss: 0.3053\n",
      "Epoch 18/30\n",
      "60000/60000 [==============================] - 5s 76us/step - loss: 0.3023 - val_loss: 0.3050\n",
      "Epoch 19/30\n",
      "60000/60000 [==============================] - 5s 76us/step - loss: 0.3020 - val_loss: 0.3048\n",
      "Epoch 20/30\n",
      "60000/60000 [==============================] - 5s 82us/step - loss: 0.3018 - val_loss: 0.3047\n",
      "Epoch 21/30\n",
      "60000/60000 [==============================] - 5s 77us/step - loss: 0.3017 - val_loss: 0.3046\n",
      "Epoch 22/30\n",
      "60000/60000 [==============================] - 5s 76us/step - loss: 0.3016 - val_loss: 0.3044\n",
      "Epoch 23/30\n",
      "60000/60000 [==============================] - 4s 74us/step - loss: 0.3015 - val_loss: 0.3045\n",
      "Epoch 24/30\n",
      "60000/60000 [==============================] - 4s 68us/step - loss: 0.3014 - val_loss: 0.3047\n",
      "Epoch 25/30\n",
      "60000/60000 [==============================] - 4s 67us/step - loss: 0.3013 - val_loss: 0.3045\n",
      "Epoch 26/30\n",
      "60000/60000 [==============================] - 4s 69us/step - loss: 0.3013 - val_loss: 0.3042\n",
      "Epoch 27/30\n",
      "60000/60000 [==============================] - 4s 66us/step - loss: 0.3012 - val_loss: 0.3042\n",
      "Epoch 28/30\n",
      "60000/60000 [==============================] - 4s 68us/step - loss: 0.3011 - val_loss: 0.3041\n",
      "Epoch 29/30\n",
      "60000/60000 [==============================] - 4s 68us/step - loss: 0.3011 - val_loss: 0.3041\n",
      "Epoch 30/30\n",
      "60000/60000 [==============================] - 4s 61us/step - loss: 0.3010 - val_loss: 0.3042\n"
     ]
    }
   ],
   "source": [
    "DAE.compile(optimizer='adam', loss='binary_crossentropy')\n",
    "DAE.fit(X_train_noisy, X_train,\n",
    "        batch_size=128,\n",
    "        epochs=30,\n",
    "        shuffle=True,\n",
    "        validation_data=(X_test_noisy, X_test))\n",
    "\n",
    "decoded_imgs = DAE.predict(X_test_noisy)"
   ]
  },
  {
   "cell_type": "markdown",
   "metadata": {},
   "source": [
    "## View the results \n",
    "\n",
    "- Show the first ten images from the clean dataset.  \n",
    "- Show the images with added noise and images predicted by the DAE. "
   ]
  },
  {
   "cell_type": "code",
   "execution_count": 24,
   "metadata": {},
   "outputs": [
    {
     "data": {
      "image/png": "[encoded data removed]",
      "text/plain": [
       "<Figure size 1440x288 with 10 Axes>"
      ]
     },
     "metadata": {
      "needs_background": "light"
     },
     "output_type": "display_data"
    }
   ],
   "source": [
    "# display original - Clean dataset\n",
    "n = 10\n",
    "plt.figure(figsize=(20, 4))\n",
    "for i in range(1,n+1):\n",
    "    ax = plt.subplot(2, n, i)\n",
    "    plt.imshow(X_test[i].reshape(28, 28))\n",
    "    plt.gray()\n",
    "    ax.get_xaxis().set_visible(False)\n",
    "    ax.get_yaxis().set_visible(False)"
   ]
  },
  {
   "cell_type": "code",
   "execution_count": 22,
   "metadata": {},
   "outputs": [
    {
     "data": {
      "image/png": "[encoded data removed]",
      "text/plain": [
       "<Figure size 1440x288 with 20 Axes>"
      ]
     },
     "metadata": {
      "needs_background": "light"
     },
     "output_type": "display_data"
    }
   ],
   "source": [
    "# Display noisy and  predicted clean images\n",
    "n = 10\n",
    "plt.figure(figsize=(20, 4))\n",
    "for i in range(1,n+1):\n",
    "\n",
    "    # display noisy dataset\n",
    "    ax = plt.subplot(2, n, i)\n",
    "    plt.imshow(X_test_noisy[i].reshape(28, 28))\n",
    "    plt.gray()\n",
    "    ax.get_xaxis().set_visible(False)\n",
    "    ax.get_yaxis().set_visible(False)\n",
    "\n",
    "    # display reconstruction\n",
    "    ax = plt.subplot(2, n, i + n)\n",
    "    plt.imshow(decoded_imgs[i].reshape(28, 28))\n",
    "    plt.gray()\n",
    "    ax.get_xaxis().set_visible(False)\n",
    "    ax.get_yaxis().set_visible(False)\n",
    "plt.show()"
   ]
  },
  {
   "cell_type": "markdown",
   "metadata": {},
   "source": [
    "Here we can see that the our model is actually performing very well. We do see some poor predictions above due to highly reduced dimensionality and high noise we have introduced in our dataset. We can further inspect the performance by checking the training and validation loss above. As always , a key takeaway here is the number of training examples and training time have a huge impact on the performance of a deep architecture. "
   ]
  },
  {
   "cell_type": "markdown",
   "metadata": {},
   "source": [
    "## Level up - Optional\n",
    "\n",
    "- Increase the size of encoded representation / decrease the amount of noise to see if the performance improves. \n",
    "- See how training epochs effect the performance\n",
    "- Import the faces dataset that we saw with PCA dimensionality reduction lab from scikit-learn, and repeat the above experiment. \n",
    "- Look for other interesting datasets/create your own noise datasets and train the network.\n",
    "- Create a DEEP denoising autoencoder by modifying the code above. "
   ]
  },
  {
   "cell_type": "markdown",
   "metadata": {},
   "source": [
    "## Summary \n",
    "\n",
    "In this lab we looked at building a simple denoising autoencoder. We created noisy datasets by adding random Gaussian noise to the fashion MNIST dataset in keras. Our results show that the network is able to identify the shapes very well , but due to using a hugely oversimplified architecture , the accuracy remains questionable. Next we'll see how we can use convolutional network approach to simplify the task of image reconstruction."
   ]
  }
 ],
 "metadata": {
  "kernelspec": {
   "display_name": "learn-env",
   "language": "python",
   "name": "learn-env"
  },
  "language_info": {
   "codemirror_mode": {
    "name": "ipython",
    "version": 3
   },
   "file_extension": ".py",
   "mimetype": "text/x-python",
   "name": "python",
   "nbconvert_exporter": "python",
   "pygments_lexer": "ipython3",
   "version": "3.6.6"
  }
 },
 "nbformat": 4,
 "nbformat_minor": 2
}
